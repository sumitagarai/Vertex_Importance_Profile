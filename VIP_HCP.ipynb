{
 "cells": [
  {
   "cell_type": "code",
   "execution_count": 1,
   "id": "ddd394a6",
   "metadata": {},
   "outputs": [],
   "source": [
    "import os\n",
    "import sys\n",
    "import math\n",
    "import numpy as np\n",
    "import pandas as pd\n",
    "import scipy\n",
    "from scipy.io import loadmat\n",
    "import bct.algorithms\n",
    "import random\n",
    "import pickle\n",
    "from tqdm import tqdm\n",
    "import matplotlib.pyplot as plt\n",
    "import seaborn as sns\n",
    "from ripser import ripser\n",
    "from persim import plot_diagrams\n",
    "from sklearn.utils import resample\n",
    "from scipy import stats\n",
    "import pickle\n",
    "%matplotlib inline"
   ]
  },
  {
   "cell_type": "code",
   "execution_count": 2,
   "id": "e2079d9f",
   "metadata": {},
   "outputs": [
    {
     "name": "stdout",
     "output_type": "stream",
     "text": [
      "dict_keys(['__header__', '__version__', '__globals__', 'X_measure', 'culled_id', 'culled_network'])\n"
     ]
    }
   ],
   "source": [
    "hcp_data = loadmat(\"../HCP_networkdata_culled.mat\")\n",
    "print(hcp_data.keys())"
   ]
  },
  {
   "cell_type": "code",
   "execution_count": 3,
   "id": "28de8b6d",
   "metadata": {},
   "outputs": [
    {
     "name": "stdout",
     "output_type": "stream",
     "text": [
      "(87, 87, 399)\n"
     ]
    }
   ],
   "source": [
    "demo_measures = hcp_data['X_measure'] # Add in the documentation for these measures later\n",
    "subj_ids = hcp_data['culled_id'][0]\n",
    "\n",
    "subj_nets = hcp_data['culled_network']\n",
    "print(subj_nets.shape)#3rd dimention accounts for individual subjects"
   ]
  },
  {
   "cell_type": "code",
   "execution_count": 2,
   "id": "3a3d3784-c911-4bc1-9dda-2cb511d6c5fe",
   "metadata": {},
   "outputs": [],
   "source": [
    "np.set_printoptions(precision=10)\n",
    "measures = ['Age', 'Gender', 'PMAT24 Correct', 'PMAT24 Skipped', 'PMAT24 Med. Time', \n",
    "           'Oral Comp.', 'Oral Comp. Age-Adj.', 'Pic.Vocab.Test', 'Pic.Vocab.Test Age-Adj.',\n",
    "           'CPW Correct', 'CPW Med. Time', 'Pattern Comp. Spd.']\n",
    "\n",
    "demo_measures_df = pd.DataFrame(demo_measures, index=subj_ids, columns=measures)\n",
    "#print(demo_measures_df)\n",
    "demo_measures_df.to_csv(\"Cognitive_Scores.csv\")\n",
    "#print(np.array(demo_measures).shape)"
   ]
  },
  {
   "cell_type": "markdown",
   "id": "f8d2d2da-3b29-4758-8131-92be97e0949b",
   "metadata": {},
   "source": [
    "# Local nets"
   ]
  },
  {
   "cell_type": "code",
   "execution_count": 3,
   "id": "1c142cd9-64e1-433e-b876-d87064173fdd",
   "metadata": {},
   "outputs": [],
   "source": [
    "#display(demo_measures_df)"
   ]
  },
  {
   "cell_type": "code",
   "execution_count": 14,
   "id": "38d0f233-9ffe-4e84-aa5b-1552fe9d58a2",
   "metadata": {},
   "outputs": [
    {
     "name": "stdout",
     "output_type": "stream",
     "text": [
      "        Age\n",
      "Gender     \n",
      "1.0     214\n",
      "2.0     185\n"
     ]
    }
   ],
   "source": [
    "subjects_gender = demo_measures_df[['Age','Gender']].groupby(['Gender'])\n",
    "print(subjects_gender.count())"
   ]
  },
  {
   "cell_type": "code",
   "execution_count": 11,
   "id": "7abd42cd-ee37-4347-a51c-d3170e88e57d",
   "metadata": {},
   "outputs": [
    {
     "data": {
      "text/plain": [
       "1.0    214\n",
       "2.0    185\n",
       "Name: Gender, dtype: int64"
      ]
     },
     "execution_count": 11,
     "metadata": {},
     "output_type": "execute_result"
    }
   ],
   "source": [
    "demo_measures_df['Gender'].value_counts()"
   ]
  },
  {
   "cell_type": "code",
   "execution_count": null,
   "id": "797781d8-cff2-416a-ac0c-5f3084ae44a1",
   "metadata": {},
   "outputs": [],
   "source": [
    "demo_age = filtered_demo[['PTID', 'DX_bl', 'AGE']]"
   ]
  },
  {
   "cell_type": "code",
   "execution_count": 19,
   "id": "81e54a80-1e23-4bae-8d6a-86795b3d813f",
   "metadata": {},
   "outputs": [
    {
     "data": {
      "text/plain": [
       "Age                          22.00000\n",
       "Gender                        1.00000\n",
       "PMAT24 Correct                6.00000\n",
       "PMAT24 Skipped                0.00000\n",
       "PMAT24 Med. Time           2560.00000\n",
       "Oral Comp.                   86.20000\n",
       "Oral Comp. Age-Adj.          65.02000\n",
       "Pic.Vocab.Test               92.84103\n",
       "Pic.Vocab.Test Age-Adj.      69.45302\n",
       "CPW Correct                  26.00000\n",
       "CPW Med. Time              1040.00000\n",
       "Pattern Comp. Spd.           60.09000\n",
       "dtype: float64"
      ]
     },
     "execution_count": 19,
     "metadata": {},
     "output_type": "execute_result"
    }
   ],
   "source": [
    "demo_measures_df.min()\n"
   ]
  },
  {
   "cell_type": "code",
   "execution_count": 21,
   "id": "023df1b9-a503-4e4a-a502-79e0f9791324",
   "metadata": {},
   "outputs": [
    {
     "data": {
      "text/plain": [
       "Age                           36.0000\n",
       "Gender                         2.0000\n",
       "PMAT24 Correct                24.0000\n",
       "PMAT24 Skipped                13.0000\n",
       "PMAT24 Med. Time           61641.0000\n",
       "Oral Comp.                   150.7050\n",
       "Oral Comp. Age-Adj.          138.0873\n",
       "Pic.Vocab.Test               153.0889\n",
       "Pic.Vocab.Test Age-Adj.      153.0889\n",
       "CPW Correct                   40.0000\n",
       "CPW Med. Time               3192.5000\n",
       "Pattern Comp. Spd.           154.6900\n",
       "dtype: float64"
      ]
     },
     "execution_count": 21,
     "metadata": {},
     "output_type": "execute_result"
    }
   ],
   "source": [
    "demo_measures_df.max()"
   ]
  },
  {
   "cell_type": "code",
   "execution_count": 29,
   "id": "69cb46ec-58a6-4e97-b5d0-31ce0c8b5889",
   "metadata": {},
   "outputs": [
    {
     "data": {
      "text/html": [
       "<div>\n",
       "<style scoped>\n",
       "    .dataframe tbody tr th:only-of-type {\n",
       "        vertical-align: middle;\n",
       "    }\n",
       "\n",
       "    .dataframe tbody tr th {\n",
       "        vertical-align: top;\n",
       "    }\n",
       "\n",
       "    .dataframe thead th {\n",
       "        text-align: right;\n",
       "    }\n",
       "</style>\n",
       "<table border=\"1\" class=\"dataframe\">\n",
       "  <thead>\n",
       "    <tr style=\"text-align: right;\">\n",
       "      <th></th>\n",
       "      <th>Pattern Comp. Spd.</th>\n",
       "    </tr>\n",
       "  </thead>\n",
       "  <tbody>\n",
       "    <tr>\n",
       "      <th>mean</th>\n",
       "      <td>115.063108</td>\n",
       "    </tr>\n",
       "    <tr>\n",
       "      <th>std</th>\n",
       "      <td>15.966502</td>\n",
       "    </tr>\n",
       "  </tbody>\n",
       "</table>\n",
       "</div>"
      ],
      "text/plain": [
       "      Pattern Comp. Spd.\n",
       "mean          115.063108\n",
       "std            15.966502"
      ]
     },
     "metadata": {},
     "output_type": "display_data"
    }
   ],
   "source": [
    "output = demo_measures_df.agg({'Pattern Comp. Spd.':['mean','std']})\n",
    "display(output)"
   ]
  },
  {
   "cell_type": "code",
   "execution_count": 259,
   "id": "f4311aac-6b6f-455f-9a78-84b1fed35643",
   "metadata": {},
   "outputs": [
    {
     "name": "stdout",
     "output_type": "stream",
     "text": [
      "{'__header__': b'MATLAB 5.0 MAT-file Platform: posix, Created on: Tue Dec 13 14:49:16 2022', '__version__': '1.0', '__globals__': [], 'frontal': array([[ 1,  2,  3,  4,  5,  6,  7,  8,  9, 10, 11, 12, 13, 14, 15, 16,\n",
      "        17, 18, 19, 20]]), 'limbic': array([[21, 22, 23, 24, 25, 26, 27, 28, 29, 30, 31, 32]]), 'temporal': array([[33, 34, 35, 36, 37, 38, 39, 40, 41, 42, 43, 44, 45, 46]]), 'parietal': array([[47, 48, 49, 50, 51, 52, 53, 54, 55, 56, 57, 58]]), 'occipital': array([[59, 60, 61, 62, 63, 64, 65, 66, 67, 68]])}\n",
      "(20, 20, 399)\n"
     ]
    }
   ],
   "source": [
    "dk_atlas = loadmat('DK.mat')\n",
    "print(dk_atlas)\n",
    "frontal_nets = subj_nets[0:20,0:20,:]\n",
    "print(frontal_nets.shape)\n"
   ]
  },
  {
   "cell_type": "code",
   "execution_count": null,
   "id": "93674e47-1238-45b6-9a8f-e235032c9520",
   "metadata": {},
   "outputs": [],
   "source": [
    "limbic_nets = subj_nets[20:32,20:32,:]\n",
    "print(limbic_nets.shape)\n",
    "temporal_nets = subj_nets[32:46,32:46,:]\n",
    "print(temporal_nets.shape)\n",
    "parietal_nets = subj_nets[46:58,46:58,:]\n",
    "print(parietal_nets.shape)\n",
    "occipital_nets = subj_nets[58:68,58:68,:]\n",
    "print(occipital_nets.shape)"
   ]
  },
  {
   "cell_type": "code",
   "execution_count": 260,
   "id": "a863f7f3",
   "metadata": {},
   "outputs": [],
   "source": [
    "# Efficiency requires a distance matrix of weights between 0 and 1\n",
    "def inverse_RBF(W, with_inf=True, norm=False):\n",
    "    W_new = np.zeros(W.shape)\n",
    "    # Build a mask\n",
    "    valid_edges = np.nonzero(W)\n",
    "    mask = np.zeros(np.shape(W)).astype(bool)\n",
    "    mask[valid_edges] = True\n",
    "    zero_edges = np.argwhere(W==0)\n",
    "    \n",
    "    # Reverse RBF kernel\n",
    "    # Denominator has a small margin to make sure that ln does not reach 1\n",
    "    W_new[mask] = np.sqrt(-1 * np.log( W[mask]/(np.max(W[mask])+1e-5) ))\n",
    "    \n",
    "    # If we need to normalize between 0 and 1\n",
    "    if norm == True:\n",
    "        W_new = W_new/np.max(W_new[W_new<np.inf])\n",
    "    \n",
    "    # Fill in the non-edges as infinite distance\n",
    "    if with_inf == True:\n",
    "        W_new[~mask] = np.inf\n",
    "    \n",
    "    # Ensure that connections to self are 0 distance\n",
    "    np.fill_diagonal(W_new, 0)\n",
    "    \n",
    "    return W_new"
   ]
  },
  {
   "cell_type": "code",
   "execution_count": 261,
   "id": "e8942f27-71ef-47f2-8f46-fc3693b01249",
   "metadata": {},
   "outputs": [],
   "source": [
    "def drawLineColored(X, C):\n",
    "    for i in range(X.shape[0]-1):\n",
    "        plt.plot(X[i:i+2, 0], X[i:i+2, 1], c=C[i, :], lineWidth = 3)\n",
    "\n",
    "def plotCocycle2D(D, X, cocycle, thresh):\n",
    "    \"\"\"\n",
    "    Given a 2D point cloud X, display a cocycle projected\n",
    "    onto edges under a given threshold \"thresh\"\n",
    "    \"\"\"\n",
    "    #Plot all edges under the threshold\n",
    "    N = X.shape[0]\n",
    "    t = np.linspace(0, 1, 10)\n",
    "    c = plt.get_cmap('Greys')\n",
    "    C = c(np.array(np.round(np.linspace(0, 255, len(t))), dtype=np.int32))\n",
    "    C = C[:, 0:3]\n",
    "\n",
    "    for i in range(N):\n",
    "        for j in range(N):\n",
    "            if D[i, j] <= thresh:\n",
    "                Y = np.zeros((len(t), 2))\n",
    "                Y[:, 0] = X[i, 0] + t*(X[j, 0] - X[i, 0])\n",
    "                Y[:, 1] = X[i, 1] + t*(X[j, 1] - X[i, 1])\n",
    "                drawLineColored(Y, C)\n",
    "    #Plot cocycle projected to edges under the chosen threshold\n",
    "    for k in range(cocycle.shape[0]):\n",
    "        [i, j, val] = cocycle[k, :]\n",
    "        if D[i, j] <= thresh:\n",
    "            [i, j] = [min(i, j), max(i, j)]\n",
    "            a = 0.5*(X[i, :] + X[j, :])\n",
    "            plt.text(a[0], a[1], '%g'%val, color='b')\n",
    "    #Plot vertex labels\n",
    "    for i in range(N):\n",
    "        plt.text(X[i, 0], X[i, 1], '%i'%i, color='r')\n",
    "    plt.axis('equal')"
   ]
  },
  {
   "cell_type": "markdown",
   "id": "caed6565",
   "metadata": {},
   "source": [
    "# Extracting Global Topological Features"
   ]
  },
  {
   "cell_type": "markdown",
   "id": "48763fe2",
   "metadata": {},
   "source": [
    "## The 0D Persistence Homology\n",
    "    - (Birth Value, Death Value, Persistence life)\n",
    "    - Longest Persistrence\n",
    "    - Mean Persistence\n",
    "    - Persistence Entropy"
   ]
  },
  {
   "cell_type": "markdown",
   "id": "f487f4e8",
   "metadata": {},
   "source": [
    "## The 1D Persistence Homology\n",
    "    - (Birth Value, Death Value, Persistence life)\n",
    "    - Longest Persistrence\n",
    "    - Mean Persistence\n",
    "    - Persistence Entropy"
   ]
  },
  {
   "cell_type": "markdown",
   "id": "fc97c484-11a2-4f5a-9fa3-a690aa0b74e2",
   "metadata": {},
   "source": [
    "## Co-cycle computations"
   ]
  },
  {
   "cell_type": "code",
   "execution_count": 262,
   "id": "8b169f1c",
   "metadata": {},
   "outputs": [],
   "source": [
    "#for computing cocycles on N = 87 nodes\n",
    "\n",
    "\n",
    "# Inputs: \n",
    "#     nets: ((M x M) X N) vector of N networks sized (M x M)\n",
    "# Outputs:\n",
    "#     feats: (N x 3) vector of features\n",
    "def compute_cocycles(subj_nets):\n",
    "    \n",
    "    #warnings.filterwarnings('ignore')\n",
    "    np.set_printoptions(precision=12)\n",
    "    \n",
    "    Vertex_Importance =list(range(0, subj_nets.shape[0]))\n",
    "    Vertex_Importance_NumCoCyles =list(range(0, subj_nets.shape[0]))\n",
    "    Vertex_Importance_NumCoCyles.insert(subj_nets.shape[0], -1) # Last elemnt on the list holds the total number of cocycles for each subject \n",
    "\n",
    "    for i in tqdm(range(subj_nets.shape[2])):\n",
    "    #for i  in tqdm(range(2)):\n",
    "        \n",
    "        net = subj_nets[:,:,i]\n",
    "        net = net/np.max(net)\n",
    "\n",
    "        sub = inverse_RBF(net, True, False)\n",
    "        sub_Vertex_Importance = [0]*(subj_nets.shape[0]) #initialize with zeros for each subjects\n",
    "        #print(\"Initialized Vertex Importance Profile =\", sub_Vertex_Importance)\n",
    "        vip_0 = [0]*(subj_nets.shape[0])\n",
    "        vip_1 = [0]*(subj_nets.shape[0])\n",
    "        \n",
    "        #For each permutation of nodes compute the VIP\n",
    "        #print(\"Number of nodes of the network=\", subj_nets.shape[0])\n",
    "        #for j in range(subj_nets.shape[0]):\n",
    "        \n",
    "        Avg_sub_Vertex_Importance = np.array([0]*(subj_nets.shape[0]), float)\n",
    "        \n",
    "        for j in range(0,(subj_nets.shape[0])):\n",
    "            #print(\"j=\", j)\n",
    "            sub_temp=sub\n",
    "            sub_temp[[1, j],:] = sub_temp[[j, 1],:]\n",
    "            sub_temp[:,[1, j]] = sub_temp[:,[j, 1]]\n",
    "            np.fill_diagonal(sub_temp, 0)\n",
    "            \n",
    "            result = ripser(sub_temp, distance_matrix=True, do_cocycles=True)\n",
    "            diagrams = result['dgms']\n",
    "            D = result['dperm2all']\n",
    "            cocycles = result['cocycles']\n",
    "           \n",
    "        \n",
    "            #print(diagrams)\n",
    "            #print(cocycles)\n",
    "        \n",
    "            #Visualization\n",
    "            \n",
    "            #dgm1 = diagrams[1]\n",
    "            #idx = np.argmax(dgm1[:, 1] - dgm1[:, 0])\n",
    "            #plot_diagrams(diagrams, show = False)\n",
    "            #plt.scatter(dgm1[idx, 0], dgm1[idx, 1], 20, 'k', 'x')\n",
    "            #plt.title(\"Max 1D birth = %.3g, death = %.3g\"%(dgm1[idx, 0], dgm1[idx, 1]))\n",
    "            #plt.show()\n",
    "        \n",
    "\n",
    "            \n",
    "        \n",
    "            #print(\"Number of 1-dim cocyles :\", len(cocycles[1]))\n",
    "            #print(\"1-dim cocyles :\", cocycles[1])\n",
    "            \n",
    "            \n",
    "            sub_Vertex_Importance = [0]*(subj_nets.shape[0])\n",
    "            for k,ar in enumerate(cocycles[1]):\n",
    "            \n",
    "                size_ar = len(ar)\n",
    "                \n",
    "                for rep_cyc in ar: \n",
    "                    for vertex in rep_cyc:\n",
    "                    \n",
    "                        sub_Vertex_Importance[vertex] = min(round(sub_Vertex_Importance[vertex]+round((1/size_ar), 5), 5), k+1)\n",
    "            \n",
    "            temp_vertex = sub_Vertex_Importance[j]\n",
    "            sub_Vertex_Importance[j] = sub_Vertex_Importance[1]\n",
    "            sub_Vertex_Importance[1] = temp_vertex\n",
    "            \n",
    "            #print(sub_Vertex_Importance)\n",
    "            Avg_sub_Vertex_Importance += np.array(sub_Vertex_Importance)\n",
    "            norm_arr = [len(cocycles[1])]*(subj_nets.shape[0]) # normalizing array\n",
    "            \n",
    "        Avg_sub_Vertex_Importance = np.subtract(Avg_sub_Vertex_Importance, norm_arr)\n",
    "        Avg_sub_Vertex_Importance = Avg_sub_Vertex_Importance/np.max(Avg_sub_Vertex_Importance)\n",
    "        Avg_sub_Vertex_Importance = np.round_(Avg_sub_Vertex_Importance, decimals = 5)\n",
    "        Avg_sub_Vertex_Importance_NumCoCycles = np.concatenate((Avg_sub_Vertex_Importance, np.array([len(cocycles[1])])), axis=0)\n",
    "        \n",
    "        #print(\"VIP=\",Avg_sub_Vertex_Importance)\n",
    "                 \n",
    "        Vertex_Importance = np.vstack((Vertex_Importance, Avg_sub_Vertex_Importance ))\n",
    "        Vertex_Importance_NumCoCyles = np.vstack((Vertex_Importance_NumCoCyles, Avg_sub_Vertex_Importance_NumCoCycles))\n",
    "        \n",
    "    \n",
    "    return(Vertex_Importance_NumCoCyles)"
   ]
  },
  {
   "cell_type": "code",
   "execution_count": 263,
   "id": "d1f75ef9-427f-4e0e-a806-2df0564b4c4c",
   "metadata": {},
   "outputs": [
    {
     "name": "stderr",
     "output_type": "stream",
     "text": [
      "100%|█████████████████████████████████████████| 399/399 [00:04<00:00, 85.58it/s]"
     ]
    },
    {
     "name": "stdout",
     "output_type": "stream",
     "text": [
      "[ 0.  1.  2.  3.  4.  5.  6.  7.  8.  9. 10. 11. 12. 13. 14. 15. 16. 17.\n",
      " 18. 19. -1.]\n",
      "[ 0.13798  0.46508  0.45916  0.32611  0.62769  0.65455  0.16078  0.28915\n",
      "  0.27437  0.41394  0.67599  1.       0.85758  0.59468  0.36553  0.50598\n",
      "  0.80411  0.07638  0.23396  0.57792 17.     ]\n",
      "(400, 21)\n"
     ]
    },
    {
     "name": "stderr",
     "output_type": "stream",
     "text": [
      "\n"
     ]
    }
   ],
   "source": [
    "np.get_printoptions()['linewidth']\n",
    "np.set_printoptions(precision=12)\n",
    "\n",
    "Frontal_Vertex_Importance_NumCoCyles = compute_cocycles(frontal_nets)\n",
    "print(Frontal_Vertex_Importance_NumCoCyles[0])\n",
    "print(Frontal_Vertex_Importance_NumCoCyles[1])\n",
    "print(Frontal_Vertex_Importance_NumCoCyles.shape)"
   ]
  },
  {
   "cell_type": "code",
   "execution_count": 264,
   "id": "787c89c6-7f09-4feb-9a3d-b7e0ae42fcd7",
   "metadata": {},
   "outputs": [
    {
     "name": "stdout",
     "output_type": "stream",
     "text": [
      "[ 0.48224  0.44013  0.44674  0.30966  1.       0.98183  0.30966  0.06936\n",
      "  0.23782  0.55244  0.53097  0.57886  0.64657  0.70355  0.47812  0.35012\n",
      "  0.0578   0.33691  0.16515  0.32948 24.     ]\n"
     ]
    }
   ],
   "source": [
    "print(Frontal_Vertex_Importance_NumCoCyles[13])"
   ]
  },
  {
   "cell_type": "code",
   "execution_count": 265,
   "id": "0abbf8a1-7cb8-4e80-a131-b7deb0427f2e",
   "metadata": {},
   "outputs": [],
   "source": [
    "file = open(\"HCP_Sturct_Frontal_Vertex_Importance_NumCoCyles_07172023.npy\", 'wb')\n",
    "np.save(file, np.array(Frontal_Vertex_Importance_NumCoCyles))"
   ]
  },
  {
   "cell_type": "code",
   "execution_count": 6,
   "id": "7bda886c",
   "metadata": {},
   "outputs": [],
   "source": [
    "Frontal_Vertex_Importance = compute_cocycles(frontal_nets)"
   ]
  },
  {
   "cell_type": "code",
   "execution_count": 4,
   "id": "d8eab0c7-7e08-4efd-acf8-4aba441068ad",
   "metadata": {},
   "outputs": [],
   "source": [
    "print(Frontal_Vertex_Importance[1])"
   ]
  },
  {
   "cell_type": "code",
   "execution_count": 5,
   "id": "b0da4d84",
   "metadata": {},
   "outputs": [],
   "source": [
    "file = open(\"HCP_Sturct_Frontal_Vertex_Importance.npy\", 'wb')\n",
    "np.save(file, np.array(Frontal_Vertex_Importance))"
   ]
  }
 ],
 "metadata": {
  "kernelspec": {
   "display_name": "Python 3 (ipykernel)",
   "language": "python",
   "name": "python3"
  },
  "language_info": {
   "codemirror_mode": {
    "name": "ipython",
    "version": 3
   },
   "file_extension": ".py",
   "mimetype": "text/x-python",
   "name": "python",
   "nbconvert_exporter": "python",
   "pygments_lexer": "ipython3",
   "version": "3.8.10"
  }
 },
 "nbformat": 4,
 "nbformat_minor": 5
}
